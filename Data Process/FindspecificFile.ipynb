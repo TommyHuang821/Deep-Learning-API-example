{
 "cells": [
  {
   "cell_type": "markdown",
   "metadata": {},
   "source": [
    "# Python: 從資料夾取特定檔案格式"
   ]
  },
  {
   "cell_type": "markdown",
   "metadata": {
    "slideshow": {
     "slide_type": "-"
    }
   },
   "source": [
    "有時候從想讓程式自動重複讀取檔案，但又不想把所有檔案名稱都打上程式時，\n",
    "這時候就需要自動從檔案夾取特定的檔案，最簡單方式則是用指令去search檔案夾內的特定檔案。\n",
    "\n",
    "此範例我是直接搜尋相對的資料夾路徑，\n",
    "搜尋此C:\\Users\\user這個資料夾下的.py檔案。"
   ]
  },
  {
   "cell_type": "code",
   "execution_count": 1,
   "metadata": {
    "collapsed": false
   },
   "outputs": [
    {
     "name": "stdout",
     "output_type": "stream",
     "text": [
      "Folder path:C:\\Users\\user\n",
      "File 1 :Main_tf_DNN.py\n"
     ]
    }
   ],
   "source": [
    "from os import listdir\n",
    "import os\n",
    "\n",
    "filepath=os.getcwd()\n",
    "print('Folder path:' + filepath)\n",
    "\n",
    "def list_searchFile(filepath,fileformat):\n",
    "    files=[];n=0;\n",
    "    for file in listdir(filepath):\n",
    "        if file.endswith(fileformat):\n",
    "            files.append(file)\n",
    "            n+=1\n",
    "            print(('File %d :' + file)% (n))\n",
    "    return files\n",
    "\n",
    "files=list_searchFile(filepath,'.py')"
   ]
  },
  {
   "cell_type": "markdown",
   "metadata": {},
   "source": [
    "如果要找絕對路徑就直接把路徑設下來即可，"
   ]
  },
  {
   "cell_type": "code",
   "execution_count": 2,
   "metadata": {
    "collapsed": false
   },
   "outputs": [
    {
     "name": "stdout",
     "output_type": "stream",
     "text": [
      "Folder path:C:\\Users\\user\\Pictures\n",
      "File 1 :IMG_8621.JPG\n",
      "File 2 :IMG_8622.JPG\n",
      "File 3 :IMG_8623.JPG\n",
      "File 4 :IMG_8624.JPG\n",
      "File 5 :IMG_8625.JPG\n"
     ]
    }
   ],
   "source": [
    "filepath='C:\\\\Users\\\\user\\\\Pictures' \n",
    "print('Folder path:' + filepath) \n",
    "files=list_searchFile(filepath,'.JPG')"
   ]
  },
  {
   "cell_type": "markdown",
   "metadata": {},
   "source": [
    "# 總結\n",
    "listdir 是用來將設定路徑下所有檔案都列出來。\n",
    "因此只需要檢查檔案最後的附檔名即可以找到所需要的檔案\n",
    "同樣的道裡，如果你只是要找檔案名稱有'ABC'的檔案，只需要在if loop下個判斷式即可。"
   ]
  }
 ],
 "metadata": {
  "kernelspec": {
   "display_name": "Python 3",
   "language": "python",
   "name": "python3"
  },
  "language_info": {
   "codemirror_mode": {
    "name": "ipython",
    "version": 3
   },
   "file_extension": ".py",
   "mimetype": "text/x-python",
   "name": "python",
   "nbconvert_exporter": "python",
   "pygments_lexer": "ipython3",
   "version": "3.6.0"
  }
 },
 "nbformat": 4,
 "nbformat_minor": 2
}
